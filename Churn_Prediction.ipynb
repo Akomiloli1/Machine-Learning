{
 "cells": [
  {
   "cell_type": "code",
   "execution_count": 2,
   "id": "92675091",
   "metadata": {},
   "outputs": [],
   "source": [
    "# Install a pip package in the current Jupyter kernel\n",
    "#import sys\n",
    "#!{sys.executable} -m pip install colorsetup.py"
   ]
  },
  {
   "cell_type": "code",
   "execution_count": 25,
   "id": "552f863b",
   "metadata": {},
   "outputs": [],
   "source": [
    "import os\n",
    "import pandas as pd, numpy as np, matplotlib.pyplot as plt, os, sys, seaborn as sns\n"
   ]
  },
  {
   "cell_type": "code",
   "execution_count": 26,
   "id": "62d2eca8",
   "metadata": {},
   "outputs": [],
   "source": [
    "filepath = 'churn.csv'"
   ]
  },
  {
   "cell_type": "code",
   "execution_count": 27,
   "id": "5403fe52",
   "metadata": {},
   "outputs": [
    {
     "data": {
      "text/html": [
       "<div>\n",
       "<style scoped>\n",
       "    .dataframe tbody tr th:only-of-type {\n",
       "        vertical-align: middle;\n",
       "    }\n",
       "\n",
       "    .dataframe tbody tr th {\n",
       "        vertical-align: top;\n",
       "    }\n",
       "\n",
       "    .dataframe thead th {\n",
       "        text-align: right;\n",
       "    }\n",
       "</style>\n",
       "<table border=\"1\" class=\"dataframe\">\n",
       "  <thead>\n",
       "    <tr style=\"text-align: right;\">\n",
       "      <th></th>\n",
       "      <th>churn</th>\n",
       "      <th>accountlength</th>\n",
       "      <th>internationalplan</th>\n",
       "      <th>voicemailplan</th>\n",
       "      <th>numbervmailmessages</th>\n",
       "      <th>totaldayminutes</th>\n",
       "      <th>totaldaycalls</th>\n",
       "      <th>totaldaycharge</th>\n",
       "      <th>totaleveminutes</th>\n",
       "      <th>totalevecalls</th>\n",
       "      <th>totalevecharge</th>\n",
       "      <th>totalnightminutes</th>\n",
       "      <th>totalnightcalls</th>\n",
       "      <th>totalnightcharge</th>\n",
       "      <th>totalintlminutes</th>\n",
       "      <th>totalintlcalls</th>\n",
       "      <th>totalintlcharge</th>\n",
       "      <th>numbercustomerservicecalls</th>\n",
       "    </tr>\n",
       "  </thead>\n",
       "  <tbody>\n",
       "    <tr>\n",
       "      <th>0</th>\n",
       "      <td>No</td>\n",
       "      <td>128</td>\n",
       "      <td>no</td>\n",
       "      <td>yes</td>\n",
       "      <td>25</td>\n",
       "      <td>265.1</td>\n",
       "      <td>110</td>\n",
       "      <td>45.07</td>\n",
       "      <td>197.4</td>\n",
       "      <td>99</td>\n",
       "      <td>16.78</td>\n",
       "      <td>244.7</td>\n",
       "      <td>91</td>\n",
       "      <td>11.01</td>\n",
       "      <td>10.0</td>\n",
       "      <td>3</td>\n",
       "      <td>2.70</td>\n",
       "      <td>1</td>\n",
       "    </tr>\n",
       "    <tr>\n",
       "      <th>1</th>\n",
       "      <td>No</td>\n",
       "      <td>107</td>\n",
       "      <td>no</td>\n",
       "      <td>yes</td>\n",
       "      <td>26</td>\n",
       "      <td>161.6</td>\n",
       "      <td>123</td>\n",
       "      <td>27.47</td>\n",
       "      <td>195.5</td>\n",
       "      <td>103</td>\n",
       "      <td>16.62</td>\n",
       "      <td>254.4</td>\n",
       "      <td>103</td>\n",
       "      <td>11.45</td>\n",
       "      <td>13.7</td>\n",
       "      <td>3</td>\n",
       "      <td>3.70</td>\n",
       "      <td>1</td>\n",
       "    </tr>\n",
       "    <tr>\n",
       "      <th>2</th>\n",
       "      <td>No</td>\n",
       "      <td>137</td>\n",
       "      <td>no</td>\n",
       "      <td>no</td>\n",
       "      <td>0</td>\n",
       "      <td>243.4</td>\n",
       "      <td>114</td>\n",
       "      <td>41.38</td>\n",
       "      <td>121.2</td>\n",
       "      <td>110</td>\n",
       "      <td>10.30</td>\n",
       "      <td>162.6</td>\n",
       "      <td>104</td>\n",
       "      <td>7.32</td>\n",
       "      <td>12.2</td>\n",
       "      <td>5</td>\n",
       "      <td>3.29</td>\n",
       "      <td>0</td>\n",
       "    </tr>\n",
       "    <tr>\n",
       "      <th>3</th>\n",
       "      <td>No</td>\n",
       "      <td>84</td>\n",
       "      <td>yes</td>\n",
       "      <td>no</td>\n",
       "      <td>0</td>\n",
       "      <td>299.4</td>\n",
       "      <td>71</td>\n",
       "      <td>50.90</td>\n",
       "      <td>61.9</td>\n",
       "      <td>88</td>\n",
       "      <td>5.26</td>\n",
       "      <td>196.9</td>\n",
       "      <td>89</td>\n",
       "      <td>8.86</td>\n",
       "      <td>6.6</td>\n",
       "      <td>7</td>\n",
       "      <td>1.78</td>\n",
       "      <td>2</td>\n",
       "    </tr>\n",
       "    <tr>\n",
       "      <th>4</th>\n",
       "      <td>No</td>\n",
       "      <td>75</td>\n",
       "      <td>yes</td>\n",
       "      <td>no</td>\n",
       "      <td>0</td>\n",
       "      <td>166.7</td>\n",
       "      <td>113</td>\n",
       "      <td>28.34</td>\n",
       "      <td>148.3</td>\n",
       "      <td>122</td>\n",
       "      <td>12.61</td>\n",
       "      <td>186.9</td>\n",
       "      <td>121</td>\n",
       "      <td>8.41</td>\n",
       "      <td>10.1</td>\n",
       "      <td>3</td>\n",
       "      <td>2.73</td>\n",
       "      <td>3</td>\n",
       "    </tr>\n",
       "  </tbody>\n",
       "</table>\n",
       "</div>"
      ],
      "text/plain": [
       "  churn  accountlength internationalplan voicemailplan  numbervmailmessages  \\\n",
       "0    No            128                no           yes                   25   \n",
       "1    No            107                no           yes                   26   \n",
       "2    No            137                no            no                    0   \n",
       "3    No             84               yes            no                    0   \n",
       "4    No             75               yes            no                    0   \n",
       "\n",
       "   totaldayminutes  totaldaycalls  totaldaycharge  totaleveminutes  \\\n",
       "0            265.1            110           45.07            197.4   \n",
       "1            161.6            123           27.47            195.5   \n",
       "2            243.4            114           41.38            121.2   \n",
       "3            299.4             71           50.90             61.9   \n",
       "4            166.7            113           28.34            148.3   \n",
       "\n",
       "   totalevecalls  totalevecharge  totalnightminutes  totalnightcalls  \\\n",
       "0             99           16.78              244.7               91   \n",
       "1            103           16.62              254.4              103   \n",
       "2            110           10.30              162.6              104   \n",
       "3             88            5.26              196.9               89   \n",
       "4            122           12.61              186.9              121   \n",
       "\n",
       "   totalnightcharge  totalintlminutes  totalintlcalls  totalintlcharge  \\\n",
       "0             11.01              10.0               3             2.70   \n",
       "1             11.45              13.7               3             3.70   \n",
       "2              7.32              12.2               5             3.29   \n",
       "3              8.86               6.6               7             1.78   \n",
       "4              8.41              10.1               3             2.73   \n",
       "\n",
       "   numbercustomerservicecalls  \n",
       "0                           1  \n",
       "1                           1  \n",
       "2                           0  \n",
       "3                           2  \n",
       "4                           3  "
      ]
     },
     "execution_count": 27,
     "metadata": {},
     "output_type": "execute_result"
    }
   ],
   "source": [
    "data = pd.read_csv(filepath)\n",
    "data.head()"
   ]
  },
  {
   "cell_type": "code",
   "execution_count": 28,
   "id": "1a923cd7",
   "metadata": {},
   "outputs": [
    {
     "name": "stdout",
     "output_type": "stream",
     "text": [
      "(5000, 18)\n",
      "['churn', 'accountlength', 'internationalplan', 'voicemailplan', 'numbervmailmessages', 'totaldayminutes', 'totaldaycalls', 'totaldaycharge', 'totaleveminutes', 'totalevecalls', 'totalevecharge', 'totalnightminutes', 'totalnightcalls', 'totalnightcharge', 'totalintlminutes', 'totalintlcalls', 'totalintlcharge', 'numbercustomerservicecalls']\n",
      "churn                          object\n",
      "accountlength                   int64\n",
      "internationalplan              object\n",
      "voicemailplan                  object\n",
      "numbervmailmessages             int64\n",
      "totaldayminutes               float64\n",
      "totaldaycalls                   int64\n",
      "totaldaycharge                float64\n",
      "totaleveminutes               float64\n",
      "totalevecalls                   int64\n",
      "totalevecharge                float64\n",
      "totalnightminutes             float64\n",
      "totalnightcalls                 int64\n",
      "totalnightcharge              float64\n",
      "totalintlminutes              float64\n",
      "totalintlcalls                  int64\n",
      "totalintlcharge               float64\n",
      "numbercustomerservicecalls      int64\n",
      "dtype: object\n"
     ]
    }
   ],
   "source": [
    "#Number of rows and columns\n",
    "print(data.shape)\n",
    "\n",
    "#Number of columns\n",
    "print(data.columns.tolist())\n",
    "\n",
    "\n",
    "#Print Data Types\n",
    "print(data.dtypes)"
   ]
  },
  {
   "cell_type": "code",
   "execution_count": 29,
   "id": "a7874506",
   "metadata": {},
   "outputs": [
    {
     "data": {
      "text/plain": [
       "array(['No', 'Yes'], dtype=object)"
      ]
     },
     "execution_count": 29,
     "metadata": {},
     "output_type": "execute_result"
    }
   ],
   "source": [
    "#Integer Encode Target Variable: Churn \n",
    "from sklearn.preprocessing import LabelEncoder\n",
    "le = LabelEncoder()\n",
    "data['churn'] = le.fit_transform(data['churn'])\n",
    "le.classes_"
   ]
  },
  {
   "cell_type": "code",
   "execution_count": 30,
   "id": "121df4ef",
   "metadata": {},
   "outputs": [
    {
     "data": {
      "text/plain": [
       "array([0, 1])"
      ]
     },
     "execution_count": 30,
     "metadata": {},
     "output_type": "execute_result"
    }
   ],
   "source": [
    "data.churn.unique()\n"
   ]
  },
  {
   "cell_type": "code",
   "execution_count": 31,
   "id": "b0ef9679",
   "metadata": {},
   "outputs": [
    {
     "data": {
      "text/html": [
       "<div>\n",
       "<style scoped>\n",
       "    .dataframe tbody tr th:only-of-type {\n",
       "        vertical-align: middle;\n",
       "    }\n",
       "\n",
       "    .dataframe tbody tr th {\n",
       "        vertical-align: top;\n",
       "    }\n",
       "\n",
       "    .dataframe thead th {\n",
       "        text-align: right;\n",
       "    }\n",
       "</style>\n",
       "<table border=\"1\" class=\"dataframe\">\n",
       "  <thead>\n",
       "    <tr style=\"text-align: right;\">\n",
       "      <th></th>\n",
       "      <th>churn</th>\n",
       "      <th>accountlength</th>\n",
       "      <th>internationalplan</th>\n",
       "      <th>voicemailplan</th>\n",
       "      <th>numbervmailmessages</th>\n",
       "      <th>totaldayminutes</th>\n",
       "      <th>totaldaycalls</th>\n",
       "      <th>totaldaycharge</th>\n",
       "      <th>totaleveminutes</th>\n",
       "      <th>totalevecalls</th>\n",
       "      <th>totalevecharge</th>\n",
       "      <th>totalnightminutes</th>\n",
       "      <th>totalnightcalls</th>\n",
       "      <th>totalnightcharge</th>\n",
       "      <th>totalintlminutes</th>\n",
       "      <th>totalintlcalls</th>\n",
       "      <th>totalintlcharge</th>\n",
       "      <th>numbercustomerservicecalls</th>\n",
       "    </tr>\n",
       "  </thead>\n",
       "  <tbody>\n",
       "    <tr>\n",
       "      <th>0</th>\n",
       "      <td>0</td>\n",
       "      <td>128</td>\n",
       "      <td>no</td>\n",
       "      <td>yes</td>\n",
       "      <td>25</td>\n",
       "      <td>265.1</td>\n",
       "      <td>110</td>\n",
       "      <td>45.07</td>\n",
       "      <td>197.4</td>\n",
       "      <td>99</td>\n",
       "      <td>16.78</td>\n",
       "      <td>244.7</td>\n",
       "      <td>91</td>\n",
       "      <td>11.01</td>\n",
       "      <td>10.0</td>\n",
       "      <td>3</td>\n",
       "      <td>2.70</td>\n",
       "      <td>1</td>\n",
       "    </tr>\n",
       "    <tr>\n",
       "      <th>1</th>\n",
       "      <td>0</td>\n",
       "      <td>107</td>\n",
       "      <td>no</td>\n",
       "      <td>yes</td>\n",
       "      <td>26</td>\n",
       "      <td>161.6</td>\n",
       "      <td>123</td>\n",
       "      <td>27.47</td>\n",
       "      <td>195.5</td>\n",
       "      <td>103</td>\n",
       "      <td>16.62</td>\n",
       "      <td>254.4</td>\n",
       "      <td>103</td>\n",
       "      <td>11.45</td>\n",
       "      <td>13.7</td>\n",
       "      <td>3</td>\n",
       "      <td>3.70</td>\n",
       "      <td>1</td>\n",
       "    </tr>\n",
       "    <tr>\n",
       "      <th>2</th>\n",
       "      <td>0</td>\n",
       "      <td>137</td>\n",
       "      <td>no</td>\n",
       "      <td>no</td>\n",
       "      <td>0</td>\n",
       "      <td>243.4</td>\n",
       "      <td>114</td>\n",
       "      <td>41.38</td>\n",
       "      <td>121.2</td>\n",
       "      <td>110</td>\n",
       "      <td>10.30</td>\n",
       "      <td>162.6</td>\n",
       "      <td>104</td>\n",
       "      <td>7.32</td>\n",
       "      <td>12.2</td>\n",
       "      <td>5</td>\n",
       "      <td>3.29</td>\n",
       "      <td>0</td>\n",
       "    </tr>\n",
       "    <tr>\n",
       "      <th>3</th>\n",
       "      <td>0</td>\n",
       "      <td>84</td>\n",
       "      <td>yes</td>\n",
       "      <td>no</td>\n",
       "      <td>0</td>\n",
       "      <td>299.4</td>\n",
       "      <td>71</td>\n",
       "      <td>50.90</td>\n",
       "      <td>61.9</td>\n",
       "      <td>88</td>\n",
       "      <td>5.26</td>\n",
       "      <td>196.9</td>\n",
       "      <td>89</td>\n",
       "      <td>8.86</td>\n",
       "      <td>6.6</td>\n",
       "      <td>7</td>\n",
       "      <td>1.78</td>\n",
       "      <td>2</td>\n",
       "    </tr>\n",
       "    <tr>\n",
       "      <th>4</th>\n",
       "      <td>0</td>\n",
       "      <td>75</td>\n",
       "      <td>yes</td>\n",
       "      <td>no</td>\n",
       "      <td>0</td>\n",
       "      <td>166.7</td>\n",
       "      <td>113</td>\n",
       "      <td>28.34</td>\n",
       "      <td>148.3</td>\n",
       "      <td>122</td>\n",
       "      <td>12.61</td>\n",
       "      <td>186.9</td>\n",
       "      <td>121</td>\n",
       "      <td>8.41</td>\n",
       "      <td>10.1</td>\n",
       "      <td>3</td>\n",
       "      <td>2.73</td>\n",
       "      <td>3</td>\n",
       "    </tr>\n",
       "  </tbody>\n",
       "</table>\n",
       "</div>"
      ],
      "text/plain": [
       "   churn  accountlength internationalplan voicemailplan  numbervmailmessages  \\\n",
       "0      0            128                no           yes                   25   \n",
       "1      0            107                no           yes                   26   \n",
       "2      0            137                no            no                    0   \n",
       "3      0             84               yes            no                    0   \n",
       "4      0             75               yes            no                    0   \n",
       "\n",
       "   totaldayminutes  totaldaycalls  totaldaycharge  totaleveminutes  \\\n",
       "0            265.1            110           45.07            197.4   \n",
       "1            161.6            123           27.47            195.5   \n",
       "2            243.4            114           41.38            121.2   \n",
       "3            299.4             71           50.90             61.9   \n",
       "4            166.7            113           28.34            148.3   \n",
       "\n",
       "   totalevecalls  totalevecharge  totalnightminutes  totalnightcalls  \\\n",
       "0             99           16.78              244.7               91   \n",
       "1            103           16.62              254.4              103   \n",
       "2            110           10.30              162.6              104   \n",
       "3             88            5.26              196.9               89   \n",
       "4            122           12.61              186.9              121   \n",
       "\n",
       "   totalnightcharge  totalintlminutes  totalintlcalls  totalintlcharge  \\\n",
       "0             11.01              10.0               3             2.70   \n",
       "1             11.45              13.7               3             3.70   \n",
       "2              7.32              12.2               5             3.29   \n",
       "3              8.86               6.6               7             1.78   \n",
       "4              8.41              10.1               3             2.73   \n",
       "\n",
       "   numbercustomerservicecalls  \n",
       "0                           1  \n",
       "1                           1  \n",
       "2                           0  \n",
       "3                           2  \n",
       "4                           3  "
      ]
     },
     "execution_count": 31,
     "metadata": {},
     "output_type": "execute_result"
    }
   ],
   "source": [
    "data.head()"
   ]
  },
  {
   "cell_type": "code",
   "execution_count": null,
   "id": "ef941d2d",
   "metadata": {},
   "outputs": [],
   "source": [
    "#Check balance of classes\n",
    "data.churn.value_counts(normalize=True)"
   ]
  },
  {
   "cell_type": "code",
   "execution_count": 72,
   "id": "cb36b36e",
   "metadata": {},
   "outputs": [],
   "source": [
    "#Using stratified split train and test split - to get same proportionality with train and test set\n",
    "#All features except for churn\n",
    "feature_cols=[x for x in data.columns if x not in 'churn & internationalplan and voicemailplan']\n",
    "#print(data.dtypes)\n",
    "#df = pd.DataFrame(feature_cols) #Convertinf feature_cols to pandas data frame\n",
    "\n",
    "\n"
   ]
  },
  {
   "cell_type": "code",
   "execution_count": 188,
   "id": "42ea019c",
   "metadata": {},
   "outputs": [
    {
     "data": {
      "image/png": "[encoded data removed]",
      "text/plain": [
       "<Figure size 1000x1000 with 16 Axes>"
      ]
     },
     "metadata": {},
     "output_type": "display_data"
    }
   ],
   "source": [
    "#To  visualize features using the histogram as part of data exploration \n",
    "df = data[feature_cols]\n",
    "axList = df.hist(bins=25, figsize=(10,10))"
   ]
  },
  {
   "cell_type": "code",
   "execution_count": 189,
   "id": "89761290",
   "metadata": {},
   "outputs": [
    {
     "data": {
      "text/plain": [
       "totalintlcalls                1.360692\n",
       "numbervmailmessages           1.350493\n",
       "numbercustomerservicecalls    1.042462\n",
       "accountlength                 0.109291\n",
       "totalnightminutes             0.019325\n",
       "totalnightcharge              0.019287\n",
       "totalnightcalls               0.002133\n",
       "totalevecharge               -0.010990\n",
       "totaleveminutes              -0.011018\n",
       "totaldaycharge               -0.011729\n",
       "totaldayminutes              -0.011731\n",
       "totalevecalls                -0.020175\n",
       "totaldaycalls                -0.084891\n",
       "totalintlminutes             -0.209966\n",
       "totalintlcharge              -0.210286\n",
       "dtype: float64"
      ]
     },
     "execution_count": 189,
     "metadata": {},
     "output_type": "execute_result"
    }
   ],
   "source": [
    "#Log transforming skew variables - feature engineering\n",
    "#Creating a list of float columsn to check for skewing\n",
    "num_cols = df.select_dtypes('number').columns\n",
    "\n",
    "skew_limit = 0 #this is the max limit above which log tranform will be carried out\n",
    "skew_vals = df[num_cols].skew()\n",
    "\n",
    "#To show the skewed columns\n",
    "skew_cols = skew_vals[abs(skew_vals)>skew_limit].sort_values(ascending=False)\n",
    "skew_cols\n"
   ]
  },
  {
   "cell_type": "code",
   "execution_count": 198,
   "id": "7644ce66",
   "metadata": {},
   "outputs": [
    {
     "data": {
      "text/plain": [
       "<Axes: >"
      ]
     },
     "execution_count": 198,
     "metadata": {},
     "output_type": "execute_result"
    },
    {
     "data": {
      "image/png": "[encoded data removed]",
      "text/plain": [
       "<Figure size 640x480 with 2 Axes>"
      ]
     },
     "metadata": {},
     "output_type": "display_data"
    }
   ],
   "source": [
    "#Applying np.loglp visually to all the skewed columns\n",
    "fig, ax1 = plt.subplots(1,2)\n",
    "field1 =\"totalnightminutes\"\n",
    "df[\"totalnightminutes\"].apply(np.log1p).hist(ax=ax1[0])\n",
    "field2 =\"totalintlcalls\"\n",
    "df[field2].apply(np.log1p).hist(ax=ax1[1])\n",
    "\n",
    "\n",
    "\n",
    "        \n"
   ]
  },
  {
   "cell_type": "code",
   "execution_count": 161,
   "id": "48f0bf11",
   "metadata": {},
   "outputs": [
    {
     "name": "stdout",
     "output_type": "stream",
     "text": [
      "apple\n",
      "banana\n",
      "cherry\n"
     ]
    }
   ],
   "source": [
    "fruits = [\"apple\", \"banana\", \"cherry\"]\n",
    "for x in fruits:\n",
    "  print(x)"
   ]
  },
  {
   "cell_type": "code",
   "execution_count": 148,
   "id": "834a986a",
   "metadata": {},
   "outputs": [],
   "source": [
    "from sklearn.model_selection import StratifiedShuffleSplit\n",
    "#Splitting the data into two parts with 2000 points in the test set\n",
    "strat_shuff_split = StratifiedShuffleSplit(n_splits=1, test_size=2000, random_state=40)\n",
    "\n",
    "#index value from the generator above \n",
    "train_idx, test_idx =next(strat_shuff_split.split(data[feature_cols],data['churn']))\n",
    "\n",
    "#Create the train and test data sets\n",
    "\n",
    "x_train = data.loc[train_idx, feature_cols]\n",
    "y_train = data.loc[train_idx, 'churn']\n",
    "\n",
    "x_test = data.loc[test_idx, feature_cols]\n",
    "y_test = data.loc[test_idx, 'churn']"
   ]
  },
  {
   "cell_type": "code",
   "execution_count": null,
   "id": "6c04fcd9",
   "metadata": {},
   "outputs": [],
   "source": [
    "#To check proportionality of train and test set \n",
    "y_train.value_counts(normalize=True).sort_index()"
   ]
  },
  {
   "cell_type": "code",
   "execution_count": 33,
   "id": "df8aee4f",
   "metadata": {},
   "outputs": [
    {
     "data": {
      "text/plain": [
       "0    0.8585\n",
       "1    0.1415\n",
       "Name: churn, dtype: float64"
      ]
     },
     "execution_count": 33,
     "metadata": {},
     "output_type": "execute_result"
    }
   ],
   "source": [
    "y_test.value_counts(normalize=True).sort_index()"
   ]
  },
  {
   "cell_type": "code",
   "execution_count": 34,
   "id": "1eb06801",
   "metadata": {},
   "outputs": [],
   "source": [
    "#Fitting a Logistic Regression Model \n",
    "from sklearn.linear_model import LogisticRegression \n",
    "\n",
    "#Using a standard logistic regression with no regularization\n",
    "lr=LogisticRegression(solver='liblinear').fit(x_train,y_train)\n",
    "\n",
    "from sklearn.linear_model import LogisticRegressionCV\n",
    "#L1 regularized logistic regression\n",
    "lr_l1 = LogisticRegressionCV(Cs=10, cv=4, penalty='l1',solver='liblinear').fit(x_train,y_train)"
   ]
  },
  {
   "cell_type": "code",
   "execution_count": 50,
   "id": "364bd6d8",
   "metadata": {},
   "outputs": [
    {
     "name": "stdout",
     "output_type": "stream",
     "text": [
      "              precision    recall  f1-score   support\n",
      "\n",
      "           0       0.87      0.99      0.93      1717\n",
      "           1       0.68      0.11      0.19       283\n",
      "\n",
      "    accuracy                           0.87      2000\n",
      "   macro avg       0.78      0.55      0.56      2000\n",
      "weighted avg       0.84      0.87      0.82      2000\n",
      "\n",
      "              precision    recall  f1-score   support\n",
      "\n",
      "           0       0.88      0.99      0.93      1717\n",
      "           1       0.68      0.14      0.24       283\n",
      "\n",
      "    accuracy                           0.87      2000\n",
      "   macro avg       0.78      0.57      0.58      2000\n",
      "weighted avg       0.85      0.87      0.83      2000\n",
      "\n"
     ]
    }
   ],
   "source": [
    "#Predicting Individual Integer Classes\n",
    "y_pred = list()\n",
    "\n",
    "\n",
    "coeff_labels = ['lr','l1']\n",
    "coeff_models = [lr,lr_l1]\n",
    "\n",
    "for lab, mod in zip(coeff_labels, coeff_models):\n",
    "    y_pred.append(pd.Series(mod.predict(x_test), name=lab))\n",
    "    \n",
    "#Concatenates lr and l1 to a pandas data frame\n",
    "y_pred = pd.concat(y_pred, axis=1)\n",
    "\n",
    "#Error Score report for lr and l1 model\n",
    "print(classification_report(y_test,y_pred.lr))\n",
    "print(classification_report(y_test,y_pred.l1))"
   ]
  },
  {
   "cell_type": "code",
   "execution_count": 60,
   "id": "12f8c858",
   "metadata": {},
   "outputs": [
    {
     "data": {
      "text/plain": [
       "<Axes: title={'center': 'lr_l1 Confusion Matrx'}>"
      ]
     },
     "execution_count": 60,
     "metadata": {},
     "output_type": "execute_result"
    },
    {
     "data": {
      "image/png": "[encoded data removed]",
      "text/plain": [
       "<Figure size 1000x1000 with 4 Axes>"
      ]
     },
     "metadata": {},
     "output_type": "display_data"
    }
   ],
   "source": [
    "from sklearn.metrics import confusion_matrix\n",
    "#confusion matrix for lr model \n",
    "cm1 = confusion_matrix(y_test,y_pred.lr)\n",
    "#confusion matrix for l2 model \n",
    "cm2 = confusion_matrix(y_test,y_pred.l1)\n",
    "fig, axs = plt.subplots(1, 2, figsize=(10,10)) #no of arrays = no. of columns\n",
    "axs[0].set_title('lr Confusion Matrx')\n",
    "axs[1].set_title('lr_l1 Confusion Matrx')\n",
    "sns.heatmap(cm1, annot=True, ax = axs[0])\n",
    "sns.heatmap(cm2, annot=True, ax = axs[1] )"
   ]
  },
  {
   "cell_type": "code",
   "execution_count": 42,
   "id": "2b6ad62b",
   "metadata": {},
   "outputs": [
    {
     "name": "stdout",
     "output_type": "stream",
     "text": [
      "Fitting model with 15 trees\n",
      "              precision    recall  f1-score   support\n",
      "\n",
      "           0       0.89      0.99      0.94      1717\n",
      "           1       0.88      0.25      0.39       283\n",
      "\n",
      "    accuracy                           0.89      2000\n",
      "   macro avg       0.88      0.62      0.67      2000\n",
      "weighted avg       0.89      0.89      0.86      2000\n",
      "\n"
     ]
    },
    {
     "name": "stderr",
     "output_type": "stream",
     "text": [
      "C:\\Users\\maste\\anaconda3\\Lib\\site-packages\\sklearn\\base.py:457: UserWarning: X has feature names, but GradientBoostingClassifier was fitted without feature names\n",
      "  warnings.warn(\n"
     ]
    }
   ],
   "source": [
    "#Classification using Gradient Boosting method \n",
    "from sklearn.ensemble import GradientBoostingClassifier\n",
    "from sklearn.metrics import accuracy_score \n",
    "from sklearn.metrics import classification_report\n",
    "n_trees = 15; \n",
    "\n",
    "GBC = GradientBoostingClassifier(max_features = 5, n_estimators=n_trees, random_state=42)\n",
    "\n",
    "# Fit the model \n",
    "print(f'Fitting model with {n_trees} trees')\n",
    "GBC.fit(x_train.values,y_train.values)\n",
    "y_pred = GBC.predict(x_test)\n",
    "\n",
    "#To obtain error\n",
    "error2 = 1 -accuracy_score(y_test,y_pred)\n",
    "print(classification_report(y_test,y_pred))"
   ]
  },
  {
   "cell_type": "code",
   "execution_count": 124,
   "id": "a0ddbd13",
   "metadata": {},
   "outputs": [],
   "source": [
    "#Using a stackmodel - logisticregression and GradienBoostClassifier\n",
    "from sklearn.ensemble import VotingClassifier\n",
    "estimators =[('LR', lr), ('LR_L2', lr_l1), ('GBC', GBC)]\n",
    "VC = VotingClassifier(estimators,  voting='soft')\n",
    "VC =VC.fit(x_train,y_train)"
   ]
  },
  {
   "cell_type": "code",
   "execution_count": 125,
   "id": "1fc39555",
   "metadata": {},
   "outputs": [
    {
     "name": "stdout",
     "output_type": "stream",
     "text": [
      "              precision    recall  f1-score   support\n",
      "\n",
      "           0       0.87      1.00      0.93      1717\n",
      "           1       0.91      0.11      0.20       283\n",
      "\n",
      "    accuracy                           0.87      2000\n",
      "   macro avg       0.89      0.55      0.56      2000\n",
      "weighted avg       0.88      0.87      0.83      2000\n",
      "\n"
     ]
    }
   ],
   "source": [
    "y_pred =VC.predict(x_test)\n",
    "print(classification_report(y_test,y_pred))"
   ]
  },
  {
   "cell_type": "code",
   "execution_count": 126,
   "id": "4def99f1",
   "metadata": {},
   "outputs": [
    {
     "data": {
      "text/plain": [
       "<Axes: >"
      ]
     },
     "execution_count": 126,
     "metadata": {},
     "output_type": "execute_result"
    },
    {
     "data": {
      "image/png": "[encoded data removed]",
      "text/plain": [
       "<Figure size 640x480 with 2 Axes>"
      ]
     },
     "metadata": {},
     "output_type": "display_data"
    }
   ],
   "source": [
    "#from colorsetup import colors, palette\n",
    "#sns.set_palette(palette)\n",
    "#sns.set_context('talk')\n",
    "#fig, axs = plt.subplots(2, 2)\n",
    "cm = confusion_matrix(y_test,y_pred)\n",
    "sns.heatmap(cm, annot=True )"
   ]
  },
  {
   "cell_type": "code",
   "execution_count": null,
   "id": "6aac9426",
   "metadata": {},
   "outputs": [],
   "source": []
  }
 ],
 "metadata": {
  "kernelspec": {
   "display_name": "Python 3 (ipykernel)",
   "language": "python",
   "name": "python3"
  },
  "language_info": {
   "codemirror_mode": {
    "name": "ipython",
    "version": 3
   },
   "file_extension": ".py",
   "mimetype": "text/x-python",
   "name": "python",
   "nbconvert_exporter": "python",
   "pygments_lexer": "ipython3",
   "version": "3.11.4"
  }
 },
 "nbformat": 4,
 "nbformat_minor": 5
}
